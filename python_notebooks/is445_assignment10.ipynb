{
 "cells": [
  {
   "cell_type": "code",
   "execution_count": null,
   "metadata": {},
   "outputs": [],
   "source": [
    "# upgrade version of altair from 4.2.0 to 5.0.0\n",
    "%pip install altair==5.0.0rc1"
   ]
  },
  {
   "cell_type": "code",
   "execution_count": null,
   "metadata": {},
   "outputs": [],
   "source": [
    "import altair as alt\n",
    "import pandas as pd\n",
    "df = pd.read_csv('https://raw.githubusercontent.com/UIUC-iSchool-DataViz/is445_data/main/bfro_reports_fall2022.csv')\n",
    "print(alt.__version__)\n",
    "myJekyllDir = '../assets/json/'\n",
    "df.columns"
   ]
  },
  {
   "cell_type": "code",
   "execution_count": null,
   "metadata": {},
   "outputs": [],
   "source": [
    "brush = alt.selection_interval()\n",
    "\n",
    "heatmap = alt.Chart('https://raw.githubusercontent.com/UIUC-iSchool-DataViz/is445_data/main/bfro_reports_fall2022.csv').mark_rect().encode(\n",
    "    x=alt.X('wind_speed:Q', bin=True),\n",
    "    y=alt.Y('state:N'),\n",
    "    color=alt.Color('count(state):Q', scale=alt.Scale(scheme='Blues'))\n",
    ").properties(\n",
    "    height=500\n",
    ").add_params(\n",
    "    brush\n",
    ")\n",
    "\n",
    "bar_chart = alt.Chart.from_dict({\n",
    "  \"description\": \"Mean number of ufos per state\",\n",
    "  \"data\": {\"url\": \"https://raw.githubusercontent.com/UIUC-iSchool-DataViz/is445_data/main/bfro_reports_fall2022.csv\"\n",
    "  },\n",
    "  \"height\":400,\n",
    "  \"width\":500,\n",
    "  \"mark\": \"bar\",\n",
    "  \"encoding\": {\n",
    "    \"x\": {\"field\": \"state\", \"type\": \"nominal\"},\n",
    "    \"y\": {\"aggregate\":\"mean\", \"field\":\"number\", \"type\":\"quantitative\",\n",
    "      \"axis\": {\n",
    "        \"title\": \"mean number of ufos\"\n",
    "      }\n",
    "    }\n",
    "  }\n",
    "}).transform_filter(\n",
    "    brush\n",
    ")"
   ]
  },
  {
   "cell_type": "code",
   "execution_count": null,
   "metadata": {},
   "outputs": [],
   "source": [
    "dashbord = heatmap.properties(width=150) | bar_chart.properties(width=500)\n",
    "dashbord"
   ]
  },
  {
   "cell_type": "code",
   "execution_count": null,
   "metadata": {},
   "outputs": [],
   "source": [
    "dashbord.save(myJekyllDir + 'IS445_assignment10_ufo_dashboard.json')"
   ]
  },
  {
   "cell_type": "code",
   "execution_count": null,
   "metadata": {},
   "outputs": [],
   "source": [
    "input_dropdown = alt.binding_select(options=df['state'].unique(), name='Region')\n",
    "selection = alt.selection_point(fields=['state'], bind=input_dropdown)\n",
    "color = alt.condition(\n",
    "    selection,\n",
    "    alt.Color('state:N').legend(None),\n",
    "    alt.value('lightgray')\n",
    ")\n",
    "\n",
    "us_map = alt.Chart.from_dict({\n",
    "    \"width\": 800,\n",
    "    \"height\": 500,\n",
    "    \"projection\": {\n",
    "        \"type\": \"albersUsa\"\n",
    "    },\n",
    "    \"data\": {\n",
    "        \"url\": \"https://raw.githubusercontent.com/vega/vega-datasets/master/data/us-10m.json\",\n",
    "        \"format\": {\n",
    "            \"type\": \"topojson\",\n",
    "            \"feature\": \"states\"\n",
    "        }\n",
    "    },\n",
    "    \"mark\": {\n",
    "        \"type\": \"geoshape\",\n",
    "        \"fill\": \"lightgray\",\n",
    "        \"stroke\": \"white\"\n",
    "    }\n",
    "})\n",
    "\n",
    "sightings_map = alt.Chart.from_dict({\n",
    "    \"data\": {\n",
    "        \"url\": \"https://raw.githubusercontent.com/UIUC-iSchool-DataViz/is445_data/main/bfro_reports_fall2022.csv\"\n",
    "    },\n",
    "    \"encoding\": {\n",
    "        \"longitude\": {\n",
    "            \"field\": \"longitude\",\n",
    "            \"type\": \"quantitative\"\n",
    "        },\n",
    "        \"latitude\": {\n",
    "            \"field\": \"latitude\",\n",
    "            \"type\": \"quantitative\"\n",
    "        }\n",
    "    },\n",
    "    \"mark\": {\n",
    "        \"type\": \"circle\",\n",
    "    }\n",
    "}).mark_point().encode(\n",
    "    color=color,\n",
    ").add_params(\n",
    "    selection\n",
    ")\n",
    "\n",
    "map_chart = us_map + sightings_map\n",
    "map_chart"
   ]
  },
  {
   "cell_type": "code",
   "execution_count": null,
   "metadata": {},
   "outputs": [],
   "source": [
    "map_chart.properties(width='container').save(myJekyllDir + 'IS445_assignment10_ufo_sightings_map.json')"
   ]
  },
  {
   "cell_type": "code",
   "execution_count": null,
   "metadata": {},
   "outputs": [],
   "source": []
  }
 ],
 "metadata": {
  "kernelspec": {
   "display_name": "DataViz",
   "language": "python",
   "name": "python3"
  },
  "language_info": {
   "codemirror_mode": {
    "name": "ipython",
    "version": 3
   },
   "file_extension": ".py",
   "mimetype": "text/x-python",
   "name": "python",
   "nbconvert_exporter": "python",
   "pygments_lexer": "ipython3",
   "version": "3.8.15"
  },
  "orig_nbformat": 4
 },
 "nbformat": 4,
 "nbformat_minor": 2
}
