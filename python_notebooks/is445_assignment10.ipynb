{
 "cells": [
  {
   "cell_type": "code",
   "execution_count": 27,
   "metadata": {},
   "outputs": [
    {
     "name": "stdout",
     "output_type": "stream",
     "text": [
      "Collecting altair==5.0.0rc1\n",
      "  Downloading altair-5.0.0rc1-py3-none-any.whl (709 kB)\n",
      "     -------------------------------------- 709.5/709.5 kB 3.7 MB/s eta 0:00:00\n",
      "Requirement already satisfied: typing-extensions>=4.0.1 in c:\\users\\m-kor\\anaconda3\\envs\\dataviz\\lib\\site-packages (from altair==5.0.0rc1) (4.4.0)\n",
      "Requirement already satisfied: jsonschema>=3.0 in c:\\users\\m-kor\\anaconda3\\envs\\dataviz\\lib\\site-packages (from altair==5.0.0rc1) (4.17.3)\n",
      "Requirement already satisfied: pandas>=0.18 in c:\\users\\m-kor\\anaconda3\\envs\\dataviz\\lib\\site-packages (from altair==5.0.0rc1) (1.5.2)\n",
      "Requirement already satisfied: numpy in c:\\users\\m-kor\\anaconda3\\envs\\dataviz\\lib\\site-packages (from altair==5.0.0rc1) (1.24.1)\n",
      "Requirement already satisfied: toolz in c:\\users\\m-kor\\anaconda3\\envs\\dataviz\\lib\\site-packages (from altair==5.0.0rc1) (0.12.0)\n",
      "Requirement already satisfied: jinja2 in c:\\users\\m-kor\\anaconda3\\envs\\dataviz\\lib\\site-packages (from altair==5.0.0rc1) (3.1.2)\n",
      "Requirement already satisfied: importlib-resources>=1.4.0 in c:\\users\\m-kor\\anaconda3\\envs\\dataviz\\lib\\site-packages (from jsonschema>=3.0->altair==5.0.0rc1) (5.10.2)\n",
      "Requirement already satisfied: attrs>=17.4.0 in c:\\users\\m-kor\\anaconda3\\envs\\dataviz\\lib\\site-packages (from jsonschema>=3.0->altair==5.0.0rc1) (22.2.0)\n",
      "Requirement already satisfied: pkgutil-resolve-name>=1.3.10 in c:\\users\\m-kor\\anaconda3\\envs\\dataviz\\lib\\site-packages (from jsonschema>=3.0->altair==5.0.0rc1) (1.3.10)\n",
      "Requirement already satisfied: pyrsistent!=0.17.0,!=0.17.1,!=0.17.2,>=0.14.0 in c:\\users\\m-kor\\anaconda3\\envs\\dataviz\\lib\\site-packages (from jsonschema>=3.0->altair==5.0.0rc1) (0.19.3)\n",
      "Requirement already satisfied: pytz>=2020.1 in c:\\users\\m-kor\\anaconda3\\envs\\dataviz\\lib\\site-packages (from pandas>=0.18->altair==5.0.0rc1) (2022.7)\n",
      "Requirement already satisfied: python-dateutil>=2.8.1 in c:\\users\\m-kor\\anaconda3\\envs\\dataviz\\lib\\site-packages (from pandas>=0.18->altair==5.0.0rc1) (2.8.2)\n",
      "Requirement already satisfied: MarkupSafe>=2.0 in c:\\users\\m-kor\\anaconda3\\envs\\dataviz\\lib\\site-packages (from jinja2->altair==5.0.0rc1) (2.1.1)\n",
      "Requirement already satisfied: zipp>=3.1.0 in c:\\users\\m-kor\\anaconda3\\envs\\dataviz\\lib\\site-packages (from importlib-resources>=1.4.0->jsonschema>=3.0->altair==5.0.0rc1) (3.11.0)\n",
      "Requirement already satisfied: six>=1.5 in c:\\users\\m-kor\\anaconda3\\envs\\dataviz\\lib\\site-packages (from python-dateutil>=2.8.1->pandas>=0.18->altair==5.0.0rc1) (1.16.0)\n",
      "Installing collected packages: altair\n",
      "  Attempting uninstall: altair\n",
      "    Found existing installation: altair 4.2.0\n",
      "    Uninstalling altair-4.2.0:\n",
      "      Successfully uninstalled altair-4.2.0\n",
      "Successfully installed altair-5.0.0rc1\n"
     ]
    }
   ],
   "source": [
    "# upgrade version of altair from 4.2.0 to 5.0.0\n",
    "%pip install altair==5.0.0rc1"
   ]
  },
  {
   "cell_type": "code",
   "execution_count": 96,
   "metadata": {},
   "outputs": [
    {
     "name": "stdout",
     "output_type": "stream",
     "text": [
      "5.0.0rc1\n"
     ]
    },
    {
     "data": {
      "text/plain": [
       "Index(['observed', 'location_details', 'county', 'state', 'season', 'title',\n",
       "       'latitude', 'longitude', 'date', 'number', 'classification', 'geohash',\n",
       "       'temperature_high', 'temperature_mid', 'temperature_low', 'dew_point',\n",
       "       'humidity', 'cloud_cover', 'moon_phase', 'precip_intensity',\n",
       "       'precip_probability', 'precip_type', 'pressure', 'summary', 'uv_index',\n",
       "       'visibility', 'wind_bearing', 'wind_speed', 'location'],\n",
       "      dtype='object')"
      ]
     },
     "execution_count": 96,
     "metadata": {},
     "output_type": "execute_result"
    }
   ],
   "source": [
    "import altair as alt\n",
    "import pandas as pd\n",
    "df = pd.read_csv('https://raw.githubusercontent.com/UIUC-iSchool-DataViz/is445_data/main/bfro_reports_fall2022.csv')\n",
    "print(alt.__version__)\n",
    "myJekyllDir = '../assets/json/'\n",
    "df.columns"
   ]
  },
  {
   "cell_type": "code",
   "execution_count": 97,
   "metadata": {},
   "outputs": [],
   "source": [
    "brush = alt.selection_interval()\n",
    "\n",
    "heatmap = alt.Chart('https://raw.githubusercontent.com/UIUC-iSchool-DataViz/is445_data/main/bfro_reports_fall2022.csv').mark_rect().encode(\n",
    "    x=alt.X('wind_speed:Q', bin=True),\n",
    "    y=alt.Y('state:N'),\n",
    "    color=alt.Color('count(state):Q', scale=alt.Scale(scheme='Blues'))\n",
    ").properties(\n",
    "    height=500\n",
    ").add_params(\n",
    "    brush\n",
    ")\n",
    "\n",
    "bar_chart = alt.Chart.from_dict({\n",
    "  \"description\": \"Mean number of ufos per state\",\n",
    "  \"data\": {\"url\": \"https://raw.githubusercontent.com/UIUC-iSchool-DataViz/is445_data/main/bfro_reports_fall2022.csv\"\n",
    "  },\n",
    "  \"height\":400,\n",
    "  \"width\":500,\n",
    "  \"mark\": \"bar\",\n",
    "  \"encoding\": {\n",
    "    \"x\": {\"field\": \"state\", \"type\": \"nominal\"},\n",
    "    \"y\": {\"aggregate\":\"mean\", \"field\":\"number\", \"type\":\"quantitative\",\n",
    "      \"axis\": {\n",
    "        \"title\": \"mean number of ufos\"\n",
    "      }\n",
    "    }\n",
    "  }\n",
    "}).transform_filter(\n",
    "    brush\n",
    ")"
   ]
  },
  {
   "cell_type": "code",
   "execution_count": 94,
   "metadata": {},
   "outputs": [
    {
     "data": {
      "text/html": [
       "\n",
       "<div id=\"altair-viz-c423d91876d24d8294b5561500757331\"></div>\n",
       "<script type=\"text/javascript\">\n",
       "  var VEGA_DEBUG = (typeof VEGA_DEBUG == \"undefined\") ? {} : VEGA_DEBUG;\n",
       "  (function(spec, embedOpt){\n",
       "    let outputDiv = document.currentScript.previousElementSibling;\n",
       "    if (outputDiv.id !== \"altair-viz-c423d91876d24d8294b5561500757331\") {\n",
       "      outputDiv = document.getElementById(\"altair-viz-c423d91876d24d8294b5561500757331\");\n",
       "    }\n",
       "    const paths = {\n",
       "      \"vega\": \"https://cdn.jsdelivr.net/npm/vega@5?noext\",\n",
       "      \"vega-lib\": \"https://cdn.jsdelivr.net/npm/vega-lib?noext\",\n",
       "      \"vega-lite\": \"https://cdn.jsdelivr.net/npm/vega-lite@5.6.1?noext\",\n",
       "      \"vega-embed\": \"https://cdn.jsdelivr.net/npm/vega-embed@6?noext\",\n",
       "    };\n",
       "\n",
       "    function maybeLoadScript(lib, version) {\n",
       "      var key = `${lib.replace(\"-\", \"\")}_version`;\n",
       "      return (VEGA_DEBUG[key] == version) ?\n",
       "        Promise.resolve(paths[lib]) :\n",
       "        new Promise(function(resolve, reject) {\n",
       "          var s = document.createElement('script');\n",
       "          document.getElementsByTagName(\"head\")[0].appendChild(s);\n",
       "          s.async = true;\n",
       "          s.onload = () => {\n",
       "            VEGA_DEBUG[key] = version;\n",
       "            return resolve(paths[lib]);\n",
       "          };\n",
       "          s.onerror = () => reject(`Error loading script: ${paths[lib]}`);\n",
       "          s.src = paths[lib];\n",
       "        });\n",
       "    }\n",
       "\n",
       "    function showError(err) {\n",
       "      outputDiv.innerHTML = `<div class=\"error\" style=\"color:red;\">${err}</div>`;\n",
       "      throw err;\n",
       "    }\n",
       "\n",
       "    function displayChart(vegaEmbed) {\n",
       "      vegaEmbed(outputDiv, spec, embedOpt)\n",
       "        .catch(err => showError(`Javascript Error: ${err.message}<br>This usually means there's a typo in your chart specification. See the javascript console for the full traceback.`));\n",
       "    }\n",
       "\n",
       "    if(typeof define === \"function\" && define.amd) {\n",
       "      requirejs.config({paths});\n",
       "      require([\"vega-embed\"], displayChart, err => showError(`Error loading script: ${err.message}`));\n",
       "    } else {\n",
       "      maybeLoadScript(\"vega\", \"5\")\n",
       "        .then(() => maybeLoadScript(\"vega-lite\", \"5.6.1\"))\n",
       "        .then(() => maybeLoadScript(\"vega-embed\", \"6\"))\n",
       "        .catch(showError)\n",
       "        .then(() => displayChart(vegaEmbed));\n",
       "    }\n",
       "  })({\"config\": {\"view\": {\"continuousWidth\": 300, \"continuousHeight\": 300}}, \"hconcat\": [{\"data\": {\"url\": \"https://raw.githubusercontent.com/UIUC-iSchool-DataViz/is445_data/main/bfro_reports_fall2022.csv\"}, \"mark\": {\"type\": \"rect\"}, \"encoding\": {\"color\": {\"aggregate\": \"count\", \"field\": \"state\", \"scale\": {\"scheme\": \"Blues\"}, \"type\": \"quantitative\"}, \"x\": {\"bin\": true, \"field\": \"wind_speed\", \"type\": \"quantitative\"}, \"y\": {\"field\": \"state\", \"type\": \"nominal\"}}, \"height\": 500, \"name\": \"view_16\", \"width\": 150}, {\"data\": {\"url\": \"https://raw.githubusercontent.com/UIUC-iSchool-DataViz/is445_data/main/bfro_reports_fall2022.csv\"}, \"mark\": \"bar\", \"description\": \"Mean number of ufos per state\", \"encoding\": {\"x\": {\"field\": \"state\", \"type\": \"nominal\"}, \"y\": {\"aggregate\": \"mean\", \"axis\": {\"title\": \"mean number of ufos\"}, \"field\": \"number\", \"type\": \"quantitative\"}}, \"height\": 400, \"transform\": [{\"filter\": {\"param\": \"param_61\"}}], \"width\": 500}], \"params\": [{\"name\": \"param_61\", \"select\": {\"type\": \"interval\"}, \"views\": [\"view_16\"]}], \"$schema\": \"https://vega.github.io/schema/vega-lite/v5.6.1.json\"}, {\"mode\": \"vega-lite\"});\n",
       "</script>"
      ],
      "text/plain": [
       "alt.HConcatChart(...)"
      ]
     },
     "execution_count": 94,
     "metadata": {},
     "output_type": "execute_result"
    }
   ],
   "source": [
    "dashbord = heatmap.properties(width=150) | bar_chart.properties(width=500)\n",
    "dashbord"
   ]
  },
  {
   "cell_type": "code",
   "execution_count": 98,
   "metadata": {},
   "outputs": [],
   "source": [
    "dashbord.save(myJekyllDir + 'IS445_assignment10_ufo_dashboard.json')"
   ]
  },
  {
   "cell_type": "code",
   "execution_count": 95,
   "metadata": {},
   "outputs": [
    {
     "data": {
      "text/html": [
       "\n",
       "<div id=\"altair-viz-e49919e9034f4db5b784872c932daa90\"></div>\n",
       "<script type=\"text/javascript\">\n",
       "  var VEGA_DEBUG = (typeof VEGA_DEBUG == \"undefined\") ? {} : VEGA_DEBUG;\n",
       "  (function(spec, embedOpt){\n",
       "    let outputDiv = document.currentScript.previousElementSibling;\n",
       "    if (outputDiv.id !== \"altair-viz-e49919e9034f4db5b784872c932daa90\") {\n",
       "      outputDiv = document.getElementById(\"altair-viz-e49919e9034f4db5b784872c932daa90\");\n",
       "    }\n",
       "    const paths = {\n",
       "      \"vega\": \"https://cdn.jsdelivr.net/npm/vega@5?noext\",\n",
       "      \"vega-lib\": \"https://cdn.jsdelivr.net/npm/vega-lib?noext\",\n",
       "      \"vega-lite\": \"https://cdn.jsdelivr.net/npm/vega-lite@5.6.1?noext\",\n",
       "      \"vega-embed\": \"https://cdn.jsdelivr.net/npm/vega-embed@6?noext\",\n",
       "    };\n",
       "\n",
       "    function maybeLoadScript(lib, version) {\n",
       "      var key = `${lib.replace(\"-\", \"\")}_version`;\n",
       "      return (VEGA_DEBUG[key] == version) ?\n",
       "        Promise.resolve(paths[lib]) :\n",
       "        new Promise(function(resolve, reject) {\n",
       "          var s = document.createElement('script');\n",
       "          document.getElementsByTagName(\"head\")[0].appendChild(s);\n",
       "          s.async = true;\n",
       "          s.onload = () => {\n",
       "            VEGA_DEBUG[key] = version;\n",
       "            return resolve(paths[lib]);\n",
       "          };\n",
       "          s.onerror = () => reject(`Error loading script: ${paths[lib]}`);\n",
       "          s.src = paths[lib];\n",
       "        });\n",
       "    }\n",
       "\n",
       "    function showError(err) {\n",
       "      outputDiv.innerHTML = `<div class=\"error\" style=\"color:red;\">${err}</div>`;\n",
       "      throw err;\n",
       "    }\n",
       "\n",
       "    function displayChart(vegaEmbed) {\n",
       "      vegaEmbed(outputDiv, spec, embedOpt)\n",
       "        .catch(err => showError(`Javascript Error: ${err.message}<br>This usually means there's a typo in your chart specification. See the javascript console for the full traceback.`));\n",
       "    }\n",
       "\n",
       "    if(typeof define === \"function\" && define.amd) {\n",
       "      requirejs.config({paths});\n",
       "      require([\"vega-embed\"], displayChart, err => showError(`Error loading script: ${err.message}`));\n",
       "    } else {\n",
       "      maybeLoadScript(\"vega\", \"5\")\n",
       "        .then(() => maybeLoadScript(\"vega-lite\", \"5.6.1\"))\n",
       "        .then(() => maybeLoadScript(\"vega-embed\", \"6\"))\n",
       "        .catch(showError)\n",
       "        .then(() => displayChart(vegaEmbed));\n",
       "    }\n",
       "  })({\"config\": {\"view\": {\"continuousWidth\": 300, \"continuousHeight\": 300}}, \"layer\": [{\"data\": {\"url\": \"https://raw.githubusercontent.com/vega/vega-datasets/master/data/us-10m.json\", \"format\": {\"feature\": \"states\", \"type\": \"topojson\"}}, \"mark\": {\"type\": \"geoshape\", \"fill\": \"lightgray\", \"stroke\": \"white\"}, \"projection\": {\"type\": \"albersUsa\"}}, {\"data\": {\"url\": \"https://raw.githubusercontent.com/UIUC-iSchool-DataViz/is445_data/main/bfro_reports_fall2022.csv\"}, \"mark\": {\"type\": \"point\"}, \"encoding\": {\"color\": {\"condition\": {\"param\": \"param_62\", \"field\": \"state\", \"legend\": null, \"type\": \"nominal\"}, \"value\": \"lightgray\"}, \"latitude\": {\"field\": \"latitude\", \"type\": \"quantitative\"}, \"longitude\": {\"field\": \"longitude\", \"type\": \"quantitative\"}}, \"name\": \"view_17\"}], \"height\": 500, \"params\": [{\"name\": \"param_62\", \"select\": {\"type\": \"point\", \"fields\": [\"state\"]}, \"bind\": {\"input\": \"select\", \"options\": [\"Alaska\", \"New Jersey\", \"New Hampshire\", \"Nebraska\", \"North Dakota\", \"North Carolina\", \"Montana\", \"Missouri\", \"Minnesota\", \"Michigan\", \"Maine\", \"Maryland\", \"Massachusetts\", \"Louisiana\", \"New Mexico\", \"Mississippi\", \"Wyoming\", \"West Virginia\", \"Vermont\", \"Virginia\", \"Texas\", \"South Dakota\", \"South Carolina\", \"Rhode Island\", \"Pennsylvania\", \"Oregon\", \"Oklahoma\", \"Ohio\", \"New York\", \"Tennessee\", \"Utah\", \"Washington\", \"Wisconsin\", \"Nevada\", \"Kentucky\", \"Kansas\", \"Indiana\", \"Illinois\", \"Idaho\", \"Georgia\", \"Florida\", \"Delaware\", \"Connecticut\", \"Colorado\", \"California\", \"Arizona\", \"Arkansas\", \"Alabama\", \"Iowa\"], \"name\": \"Region\"}, \"views\": [\"view_17\"]}], \"width\": 800, \"$schema\": \"https://vega.github.io/schema/vega-lite/v5.6.1.json\"}, {\"mode\": \"vega-lite\"});\n",
       "</script>"
      ],
      "text/plain": [
       "alt.LayerChart(...)"
      ]
     },
     "execution_count": 95,
     "metadata": {},
     "output_type": "execute_result"
    }
   ],
   "source": [
    "input_dropdown = alt.binding_select(options=df['state'].unique(), name='Region')\n",
    "selection = alt.selection_point(fields=['state'], bind=input_dropdown)\n",
    "color = alt.condition(\n",
    "    selection,\n",
    "    alt.Color('state:N').legend(None),\n",
    "    alt.value('lightgray')\n",
    ")\n",
    "\n",
    "us_map = alt.Chart.from_dict({\n",
    "    \"width\": 800,\n",
    "    \"height\": 500,\n",
    "    \"projection\": {\n",
    "        \"type\": \"albersUsa\"\n",
    "    },\n",
    "    \"data\": {\n",
    "        \"url\": \"https://raw.githubusercontent.com/vega/vega-datasets/master/data/us-10m.json\",\n",
    "        \"format\": {\n",
    "            \"type\": \"topojson\",\n",
    "            \"feature\": \"states\"\n",
    "        }\n",
    "    },\n",
    "    \"mark\": {\n",
    "        \"type\": \"geoshape\",\n",
    "        \"fill\": \"lightgray\",\n",
    "        \"stroke\": \"white\"\n",
    "    }\n",
    "})\n",
    "\n",
    "sightings_map = alt.Chart.from_dict({\n",
    "    \"data\": {\n",
    "        \"url\": \"https://raw.githubusercontent.com/UIUC-iSchool-DataViz/is445_data/main/bfro_reports_fall2022.csv\"\n",
    "    },\n",
    "    \"encoding\": {\n",
    "        \"longitude\": {\n",
    "            \"field\": \"longitude\",\n",
    "            \"type\": \"quantitative\"\n",
    "        },\n",
    "        \"latitude\": {\n",
    "            \"field\": \"latitude\",\n",
    "            \"type\": \"quantitative\"\n",
    "        }\n",
    "    },\n",
    "    \"mark\": {\n",
    "        \"type\": \"circle\",\n",
    "    }\n",
    "}).mark_point().encode(\n",
    "    color=color,\n",
    ").add_params(\n",
    "    selection\n",
    ")\n",
    "\n",
    "map_chart = us_map + sightings_map\n",
    "map_chart"
   ]
  },
  {
   "cell_type": "code",
   "execution_count": 88,
   "metadata": {},
   "outputs": [],
   "source": [
    "map_chart.properties(width='container').save(myJekyllDir + 'IS445_assignment10_ufo_sightings_map.json')"
   ]
  },
  {
   "cell_type": "code",
   "execution_count": null,
   "metadata": {},
   "outputs": [],
   "source": []
  }
 ],
 "metadata": {
  "kernelspec": {
   "display_name": "DataViz",
   "language": "python",
   "name": "python3"
  },
  "language_info": {
   "codemirror_mode": {
    "name": "ipython",
    "version": 3
   },
   "file_extension": ".py",
   "mimetype": "text/x-python",
   "name": "python",
   "nbconvert_exporter": "python",
   "pygments_lexer": "ipython3",
   "version": "3.8.15"
  },
  "orig_nbformat": 4
 },
 "nbformat": 4,
 "nbformat_minor": 2
}
